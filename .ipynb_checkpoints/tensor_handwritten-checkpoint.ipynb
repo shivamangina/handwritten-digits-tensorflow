{
 "cells": [
  {
   "cell_type": "code",
   "execution_count": 6,
   "id": "e43e3e2d-b24b-4dc1-bd7d-9a71b626b320",
   "metadata": {},
   "outputs": [],
   "source": [
    "import tensorflow as tf"
   ]
  },
  {
   "cell_type": "code",
   "execution_count": 7,
   "id": "0f0ead3c-9ece-4bca-a3af-288dcd9198a4",
   "metadata": {},
   "outputs": [
    {
     "data": {
      "text/plain": [
       "<module 'tensorflow._api.v2.version' from '/Users/shivakumarmangina/miniconda3/envs/handwritten-digits/lib/python3.12/site-packages/tensorflow/_api/v2/version/__init__.py'>"
      ]
     },
     "execution_count": 7,
     "metadata": {},
     "output_type": "execute_result"
    }
   ],
   "source": [
    "tf.version"
   ]
  },
  {
   "cell_type": "code",
   "execution_count": 8,
   "id": "0f487e54-e0cd-47ff-b8ef-730785ba7f8e",
   "metadata": {},
   "outputs": [],
   "source": [
    "(x_train, y_train), (x_test, y_test) = tf.keras.datasets.mnist.load_data()"
   ]
  },
  {
   "cell_type": "code",
   "execution_count": 9,
   "id": "ca433180-521b-4c91-a95c-79a15beb4a09",
   "metadata": {},
   "outputs": [
    {
     "data": {
      "text/plain": [
       "((60000, 28, 28), (60000,), (10000, 28, 28), (10000,))"
      ]
     },
     "execution_count": 9,
     "metadata": {},
     "output_type": "execute_result"
    }
   ],
   "source": [
    "x_train.shape ,y_train.shape,x_test.shape,y_test.shape"
   ]
  },
  {
   "cell_type": "code",
   "execution_count": 10,
   "id": "367de3ea-46f1-4fd3-a65e-ed95b27199a4",
   "metadata": {},
   "outputs": [],
   "source": [
    "matrix_data = x_train[0]"
   ]
  },
  {
   "cell_type": "code",
   "execution_count": 11,
   "id": "96abc2c4-3c7e-4f6d-8f99-d2b316e154f0",
   "metadata": {},
   "outputs": [],
   "source": [
    "import numpy as np\n",
    "import matplotlib.pyplot as plt"
   ]
  },
  {
   "cell_type": "code",
   "execution_count": 18,
   "id": "f102ff9b-7ce8-4f3e-99ab-a4011da13ef0",
   "metadata": {},
   "outputs": [
    {
     "data": {
      "text/plain": [
       "(<matplotlib.image.AxesImage at 0x3277cb260>, 0)"
      ]
     },
     "execution_count": 18,
     "metadata": {},
     "output_type": "execute_result"
    },
    {
     "data": {
      "image/png": "[encoded data removed]",
      "text/plain": [
       "<Figure size 480x480 with 1 Axes>"
      ]
     },
     "metadata": {},
     "output_type": "display_data"
    }
   ],
   "source": [
    "plt.matshow(x_train[1]),y_train[1]"
   ]
  },
  {
   "cell_type": "code",
   "execution_count": null,
   "id": "83ae745d-1126-4260-a47a-a20a46f2d04e",
   "metadata": {},
   "outputs": [],
   "source": []
  },
  {
   "cell_type": "code",
   "execution_count": null,
   "id": "a4f646cf-8dc6-4af2-9cc4-2529ec676359",
   "metadata": {},
   "outputs": [],
   "source": []
  }
 ],
 "metadata": {
  "kernelspec": {
   "display_name": "Python 3 (ipykernel)",
   "language": "python",
   "name": "python3"
  },
  "language_info": {
   "codemirror_mode": {
    "name": "ipython",
    "version": 3
   },
   "file_extension": ".py",
   "mimetype": "text/x-python",
   "name": "python",
   "nbconvert_exporter": "python",
   "pygments_lexer": "ipython3",
   "version": "3.12.9"
  }
 },
 "nbformat": 4,
 "nbformat_minor": 5
}
